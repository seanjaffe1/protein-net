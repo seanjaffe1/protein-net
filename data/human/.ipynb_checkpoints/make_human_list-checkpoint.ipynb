{
 "cells": [
  {
   "cell_type": "code",
   "execution_count": 1,
   "metadata": {},
   "outputs": [],
   "source": [
    "import numpy as np"
   ]
  },
  {
   "cell_type": "code",
   "execution_count": 12,
   "metadata": {},
   "outputs": [],
   "source": [
    "ids = []\n",
    "with open ('homo_sapien_pbds', 'r') as f:\n",
    "    lines = f.readlines()\n",
    "    for line in lines:\n",
    "        l = line.split(', ')\n",
    "\n",
    "choices = np.random.choice(l, 2500, replace=False)\n",
    "\n",
    "with open('homo_sap_ids', 'w') as file:\n",
    "    for id in choices:\n",
    "        \n",
    "        file.write(\"{}\\n\".format(id))\n",
    "        \n",
    "train = np.random.choice(2500, round(2500 * .8), replace=False)\n",
    "np.savetxt('train.txt', train, delimiter=',', fmt='%d')"
   ]
  },
  {
   "cell_type": "code",
   "execution_count": 13,
   "metadata": {},
   "outputs": [],
   "source": [
    "train = np.random.choice(955, round(955 * .8), replace=False)\n",
    "np.savetxt('train.txt', train, delimiter=',', fmt='%d')"
   ]
  },
  {
   "cell_type": "code",
   "execution_count": null,
   "metadata": {},
   "outputs": [],
   "source": []
  }
 ],
 "metadata": {
  "kernelspec": {
   "display_name": "Python [default]",
   "language": "python",
   "name": "python3"
  },
  "language_info": {
   "codemirror_mode": {
    "name": "ipython",
    "version": 3
   },
   "file_extension": ".py",
   "mimetype": "text/x-python",
   "name": "python",
   "nbconvert_exporter": "python",
   "pygments_lexer": "ipython3",
   "version": "3.6.4"
  }
 },
 "nbformat": 4,
 "nbformat_minor": 2
}
